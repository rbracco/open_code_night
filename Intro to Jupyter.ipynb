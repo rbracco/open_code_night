{
 "cells": [
  {
   "cell_type": "markdown",
   "metadata": {},
   "source": [
    "# Welcome to Jupyter Notebook"
   ]
  },
  {
   "cell_type": "markdown",
   "metadata": {},
   "source": [
    "## What is Jupyter Notebook\n",
    "\n",
    "Jupyter Notebook is an open-source web application that allows you to share Python code interspersed with text/equations/HTML.  The files used in Jupyter are called “notebooks” and are meant to be like an interactive lab journal for programmers, researchers, and data scientists. \n",
    "\n",
    "Click different areas and you'll see a blue or green border around \"cells\". Cells are bits of code or text that can be run one at a time.  \n",
    "\n",
    "**To automatically run a cell, click on it and hit shift+enter, try this on the cell below.**"
   ]
  },
  {
   "cell_type": "code",
   "execution_count": 2,
   "metadata": {},
   "outputs": [
    {
     "data": {
      "text/plain": [
       "4"
      ]
     },
     "execution_count": 2,
     "metadata": {},
     "output_type": "execute_result"
    }
   ],
   "source": [
    "2+2"
   ]
  },
  {
   "cell_type": "markdown",
   "metadata": {},
   "source": [
    "When you click on a cell, it will be in one of two modes. \n",
    "\n",
    "* **Command Mode** (blue border) - Allows you to change *the whole cell or neighboring cells*\n",
    "* **Edit Mode**    (green border) - Allows you to edit things *inside* the cell\n",
    "\n",
    "You can switch between these modes easily...\n",
    "* To go from **Command Mode** to **Edit Mode**, hit **Enter** or just double click inside the text area (light gray) of the cell  \n",
    "* To go from **Edit Mode** to **Command Mode**, hit **Esc** or just click outside the text area of the cell (white)\n",
    "\n",
    "To move between cells, use the arrow keys. You can do this in edit or command mode but command mode will be faster so hit **esc** first"
   ]
  },
  {
   "cell_type": "markdown",
   "metadata": {},
   "source": [
    "#### Jupyter is meant to be interactive so get comfortable switching between Command Mode and Edit Mode before continuing"
   ]
  },
  {
   "cell_type": "code",
   "execution_count": null,
   "metadata": {},
   "outputs": [],
   "source": []
  },
  {
   "cell_type": "code",
   "execution_count": null,
   "metadata": {},
   "outputs": [],
   "source": []
  },
  {
   "cell_type": "markdown",
   "metadata": {},
   "source": [
    "### Most common shortcuts for command mode\n",
    "Jupyter has special shortcuts that make using it much easier. They are worth learning and will save you tons of time. Let's start with the most important shortcuts in Command Mode (blue border, meant for changing the whole cell). I'll list them here and then we'll go through them one by one\n",
    "\n",
    "* Creating and deleting cells\n",
    "  * **A**  - insert new cell above\n",
    "  * **B**  - insert new cell below\n",
    "  * **DD** - delete selected cells \n",
    "  * **Z** - undo cell deletion\n",
    "* Cutting copying and pasting\n",
    "  * **C** - copy cell\n",
    "  * **X** - cut cell\n",
    "  * **V** - paste cell below\n",
    "  * **Shift-V** - paste cell above\n",
    "* Change cell types\n",
    "  * **Y** - change cell to `code` type\n",
    "  * **M** - change cell to *markdown* type\n",
    "  * **R** - change cell to raw text (rarely useful)\n",
    "* Navigation\n",
    "  * **Up arrow** - Select cell above\n",
    "  * **Down arrow** - Select cell below\n",
    "  * **Shift+Up arrow** - Select multiple cells above\n",
    "  * **Shift+Down arrow** - Select multiple cells below\n",
    "  * **Space** - Scroll down\n",
    "  * **Shift-Space** -Scroll up\n",
    "* Other functions\n",
    "  * **S** - save notebook\n",
    "  * **H** - view keyboard shortcuts"
   ]
  },
  {
   "cell_type": "markdown",
   "metadata": {},
   "source": [
    "### Let's go over them one-by-one"
   ]
  },
  {
   "cell_type": "markdown",
   "metadata": {},
   "source": [
    "You already know one, shift+enter makes a cell run the code or text inside it. If you hit shift-enter on the very last cell in a notebook, it automatically makes a new cell for you, but if you want to make a cell anywhere else, just hit A\n",
    "to insert one *above* or B to insert one *below*.\n",
    "\n",
    "Try it out, but remember this will only work if you're in command mode and the border is blue."
   ]
  },
  {
   "cell_type": "code",
   "execution_count": null,
   "metadata": {},
   "outputs": [],
   "source": []
  },
  {
   "cell_type": "markdown",
   "metadata": {},
   "source": [
    "Hopefully you tried it and made a bunch of new cells. If so, you probably want to delete some. To do that, just hit **DD** in command mode. Jupyter makes you hit it twice because accidentally deleting cells is a bad thing. Just in case you want to undo, you can always hit **Z** to undo a cell deletion. Try it out."
   ]
  },
  {
   "cell_type": "code",
   "execution_count": null,
   "metadata": {},
   "outputs": [],
   "source": []
  }
 ],
 "metadata": {
  "kernelspec": {
   "display_name": "Python 3",
   "language": "python",
   "name": "python3"
  },
  "language_info": {
   "codemirror_mode": {
    "name": "ipython",
    "version": 3
   },
   "file_extension": ".py",
   "mimetype": "text/x-python",
   "name": "python",
   "nbconvert_exporter": "python",
   "pygments_lexer": "ipython3",
   "version": "3.7.1"
  }
 },
 "nbformat": 4,
 "nbformat_minor": 2
}
